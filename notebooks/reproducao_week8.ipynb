{
 "cells": [
  {
   "cell_type": "markdown",
   "metadata": {},
   "source": [
    "# setup"
   ]
  },
  {
   "cell_type": "code",
   "execution_count": 1,
   "metadata": {},
   "outputs": [
    {
     "name": "stdout",
     "output_type": "stream",
     "text": [
      "c:\\Users\\katri\\Downloads\\git\\petrobras\\vashisth2022direct\n"
     ]
    }
   ],
   "source": [
    "import os\n",
    "\n",
    "sep = '\\\\'\n",
    "if os.getcwd().split(sep)[-1] == 'notebooks':\n",
    "    os.chdir('..')\n",
    "    print(os.getcwd())\n",
    "assert os.getcwd().split(sep)[-1] == 'vashisth2022direct'"
   ]
  },
  {
   "cell_type": "code",
   "execution_count": 2,
   "metadata": {},
   "outputs": [],
   "source": [
    "import pathlib\n",
    "import matplotlib.pyplot as plt\n",
    "import lasio\n",
    "import numpy as np\n",
    "import tensorflow as tf\n",
    "import pandas as pd\n",
    "import math\n",
    "\n",
    "from scipy import signal\n",
    "from segysak.segy import segy_loader\n",
    "from sklearn.linear_model import LinearRegression\n",
    "from sklearn import linear_model\n",
    "from tensorflow.python.keras import initializers, optimizers\n",
    "from tensorflow.python.keras.layers import Input, Dense, Activation, Flatten, Conv2D, Dropout\n",
    "from tensorflow.python.keras.models import Model\n",
    "from tensorflow.python.keras.callbacks import EarlyStopping, ModelCheckpoint"
   ]
  },
  {
   "cell_type": "markdown",
   "metadata": {},
   "source": [
    "# utils"
   ]
  },
  {
   "cell_type": "code",
   "execution_count": 3,
   "metadata": {},
   "outputs": [],
   "source": [
    "def RC_fwd_model_ia(ia1, ia2):\n",
    "    Rpp = (ia2 - ia1) / (ia2 + ia1)\n",
    "    return Rpp"
   ]
  },
  {
   "cell_type": "code",
   "execution_count": 4,
   "metadata": {},
   "outputs": [],
   "source": [
    "#Ordem de inputs da funcao: 1 - profundidade, 2- curva de poco que deseja filtrar parta a escala sismica, 3 -dado sismico 3D\n",
    "#4- ponto mais raso em profundidade (equivalente ao corte inicial do dado sismico),\n",
    "#5- ponto mais profundo(equivalente ao corte final do dado sismico)\n",
    "def escala_sismica(depth,curva_poco,dado_sismico,depth_point1,depth_point2): \n",
    "    wells=[]\n",
    "    \n",
    "    wells.append(np.array([depth,curva_poco]).T)\n",
    "    #print(wells)\n",
    "    npocos = 1\n",
    "    avgParam = 1 #parameter used for\n",
    "    upperLimit = depth_point2#intersection of points\n",
    "    lowerLimit = depth_point1\n",
    "    columns = [] \n",
    "    jumpvec =[]\n",
    "    inivec = np.zeros(npocos)\n",
    "    endvec = np.zeros(npocos)\n",
    "    dzi = np.zeros(npocos)\n",
    "    indw = 0\n",
    "    \n",
    "    for well in wells:\n",
    "        depthX = 0\n",
    "        dzi[indw] = well[3,0] -well[2,0]\n",
    "        ini, end = -1, -1\n",
    "        for i in range(well.shape[0]):\n",
    "            if well[i, 0] >= lowerLimit and well[i, 0] <= upperLimit:\n",
    "                depthX += 1\n",
    "                if ini == -1:\n",
    "                    ini = i\n",
    "            elif ini != -1:\n",
    "                end = i-1\n",
    "                break\n",
    "        if end == -1:# in case is the whole well\n",
    "            end = well.shape[0]-1\n",
    "        jump = (depthX-1)/(dado_sismico.shape[2])\n",
    "        \n",
    "        inivec[indw] = ini\n",
    "        endvec[indw] = end\n",
    "        indw +=1\n",
    "    \n",
    "        jumpvec.append([math.floor(jump)])\n",
    "        columns.append([math.floor(ini + j*jump) for j in range(dado_sismico.shape[2]+1)])\n",
    "    \n",
    "    jumpvec =np.array(jumpvec)\n",
    "\n",
    "    wellsF =[]\n",
    "    for i in range(len(wells)):\n",
    "        auxWell = []\n",
    "        #print(np.shape(inivec))\n",
    "    \n",
    "        # cria dados de poco com filtro\n",
    "        auxWellF = []\n",
    "    \n",
    "        a = math.floor(inivec[i])\n",
    "\n",
    "        #vetores com dados originais do poco selecionados na faixa de 200m\n",
    "        auxcurva = wells[i][math.floor(inivec[i]):math.floor(endvec[i]),1]\n",
    "        \n",
    "        # escala dos dados sismicos em metros\n",
    "        lb = 5\n",
    "        #escala do poco i e'  dada por   (200/(endvec[i] - inivec[i]))\n",
    "        ep =(200/(endvec[i] - inivec[i]))\n",
    "\n",
    "        Timepoco  = np.arange(np.shape(auxcurva)[0])\n",
    "\n",
    "        vpmedio = 4.865042027693202 #km/s\n",
    "        dti = 2 * dzi[i]  / (1000 * vpmedio)   # dzi[i]  passo de profundidade poco poco i em metros\n",
    "        Timepoco = Timepoco * dti\n",
    "        nfiltp  = 3\n",
    "        #60 na linha abaixo  corresponde 60 Hertz que define o corte no filtro (frequencias acima de 60 são cortadas)\n",
    "        cutofffrp =  2 * 60 * dti\n",
    "        #print(dti,cutofffrp)\n",
    "        bp, ap = signal.butter(nfiltp, cutofffrp)\n",
    "        curvafilt = signal.filtfilt(bp, ap, np.squeeze(auxcurva))\n",
    "        \n",
    "        for j in range((dado_sismico.shape[2])):\n",
    "\n",
    "            curvaiF = curvafilt[j*jumpvec[i]]\n",
    "\n",
    "            auxWellF.append([curvaiF])\n",
    "        \n",
    "        j = (dado_sismico.shape[2]) \n",
    "        curvaiF = curvafilt[j*jumpvec[i]-1]\n",
    "        auxWellF.append([curvaiF])\n",
    "    \n",
    "        wellsF.append(auxWellF)\n",
    "\n",
    "        wellsF[i] = np.array(auxWellF)\n",
    "\n",
    "    wells = np.array(wellsF)\n",
    "    return wells[0,:,0,0]"
   ]
  },
  {
   "cell_type": "markdown",
   "metadata": {},
   "source": [
    "# poço"
   ]
  },
  {
   "cell_type": "code",
   "execution_count": 5,
   "metadata": {},
   "outputs": [],
   "source": [
    "def porosity_calc(rho_b, rho_ma, rho_f):\n",
    "    rho_n = np.array(rho_b)\n",
    "    phi_calc = np.zeros(rho_n.size)\n",
    "    for i in range(rho_n.size):\n",
    "        phi_calc[i] = ((rho_n[i] - rho_ma) / (rho_f-rho_ma))*100\n",
    "\n",
    "    return phi_calc"
   ]
  },
  {
   "cell_type": "code",
   "execution_count": 6,
   "metadata": {},
   "outputs": [],
   "source": [
    "# well1 = lasio.read('7buz12rjs_editadas.las')\n",
    "# well2 = lasio.read('7-buz-14da-rjs_curvas_basicas.las')\n",
    "well3 = lasio.read('data/dados/7buz23rjs.las')\n",
    "# well4 = lasio.read('7-buz-25-rjs_curvas_basicas.las')\n",
    "well5 = lasio.read('data/dados/7-buz-29-rjs.las')\n",
    "# well6 = lasio.read('7-buz-31d-rjs_curvas_basicas.las')\n",
    "# well7 = lasio.read('8-BUZ-21D-RJS_editadas.las')\n",
    "well8 = lasio.read('data/dados/8-buz-26-rjs.las')\n",
    "well9 = lasio.read('data/dados/8buz28da.las')\n",
    "# well10 = lasio.read('8-buz-32da-rjs_curvas_basicas.las')\n",
    "# well11 = lasio.read('8buz15rjs_edit.las')\n",
    "well12 = lasio.read('data/dados/8buz20rjs.las')\n",
    "# well13 = lasio.read('3-BRSA-1184-RJS-las.las')\n",
    "well14 = lasio.read('data/dados/7-buz-10-rjs.las')\n",
    "# well15 = lasio.read('7-BUZ-30-RJS-las.las')\n",
    "# well16 = lasio.read('8-BUZ-9-RJS-las.las')\n",
    "# well20 = lasio.read('9-BRSA-1191-RJS-las.las') #converter nphi para porcentagem\n",
    "# well18 = lasio.read('9-BUZ-4-RJS-las.las')\n",
    "# well19 = lasio.read('9-BUZ-8-RJS-las.las')\n",
    "\n",
    "##\n",
    "# well17 = lasio.read('9-BRSA-1197-RJS-las.las') #Utilizar para gerar figura, converter nphi para porcentagem\n",
    "well18 = lasio.read('data/dados/3-brsa-1053-rjs.las')"
   ]
  },
  {
   "cell_type": "code",
   "execution_count": 7,
   "metadata": {},
   "outputs": [],
   "source": [
    "well3_df = well3.df().dropna(how = 'any', axis=0)\n",
    "well5_df = well5.df().dropna(how = 'any', axis=0)\n",
    "well8_df = well8.df().dropna(how = 'any', axis=0)\n",
    "well9_df = well9.df().dropna(how = 'any', axis=0)\n",
    "well12_df = well12.df().dropna(how = 'any', axis=0)\n",
    "well14_df = well14.df().dropna(how = 'any', axis=0)\n",
    "well18_df = well18.df().dropna(how = 'any', axis=0)"
   ]
  },
  {
   "cell_type": "code",
   "execution_count": 8,
   "metadata": {},
   "outputs": [],
   "source": [
    "data3 = well3_df\n",
    "res3 = np.array(data3['BRRESP'])[+150:]\n",
    "rho3 = np.array(data3['BRDENS'])[+150:]\n",
    "dtp3 = np.array(data3['BRDTP'])[+150:]\n",
    "dts3 = np.array(data3['BRDTS'])[+150:]\n",
    "phi3 = np.array(data3['BRNEUT'])[+150:]\n",
    "gr3 = np.array(data3['BRGR'])[+150:]\n",
    "z3 = data3.index[+150:]\n",
    "\n",
    "vp3 = (10**3/dtp3)*0.3048 #km/s\n",
    "vs3 = (10**3/dts3)*0.3048 #km/s\n",
    "\n",
    "phi_den3 = porosity_calc(rho3,2.8,1.05)\n",
    "\n",
    "twt3 = np.array(data3['TWT'])[+150:]\n",
    "dpt3 = np.array(data3['DEPT'])[+150:]"
   ]
  },
  {
   "cell_type": "code",
   "execution_count": 9,
   "metadata": {},
   "outputs": [],
   "source": [
    "data5 = well5_df\n",
    "# res5 = np.array(data5['BRRESP'])[+150:]\n",
    "res5 = np.array(data5['BRRESP'])\n",
    "rho5 = np.array(data5['BRDENS']) #g/cm3\n",
    "dtp5 = np.array(data5['BRDTP'])\n",
    "phi5 = np.array(data5['BRNEUT'])\n",
    "gr5 = np.array(data5['BRGR'])\n",
    "z5 = data5.first_valid_index\n",
    "\n",
    "vp5 = (10**3/dtp5)*0.3048 #km/s\n",
    "\n",
    "phi_den5 = porosity_calc(rho5,2.8,1.05)\n",
    "\n",
    "twt5 = np.array(data5['TWT'])\n",
    "# dpt5 = np.array(data5['DEPT'])[+150:]\n",
    "dpt5 = np.array(data5['TVD'])"
   ]
  },
  {
   "cell_type": "code",
   "execution_count": 10,
   "metadata": {},
   "outputs": [],
   "source": [
    "data8 = well8_df\n",
    "res8 = np.array(data8['BRRESP'])[+14200:]\n",
    "rho8 = np.array(data8['BRDENS'])[+14200:]\n",
    "dtp8 = np.array(data8['BRDTP'])[+14200:]\n",
    "phi8 = np.array(data8['BRNEUT'])[+14200:]\n",
    "gr8 = np.array(data8['BRGR'])[+14200:]\n",
    "z8 = data8.index[+14200:]\n",
    "\n",
    "vp8 = (10**3/dtp8)*0.3048 #km/s\n",
    "\n",
    "phi_den8 = porosity_calc(rho8,2.8,1.05)\n",
    "\n",
    "twt8 = np.array(data8['TWT'])[+14200:]"
   ]
  },
  {
   "cell_type": "code",
   "execution_count": 11,
   "metadata": {},
   "outputs": [],
   "source": [
    "data9 = well9_df\n",
    "res9 = np.array(data9['BRRESP'])\n",
    "rho9 = np.array(data9['BRDENS'])\n",
    "dtp9 = np.array(data9['BRDTP'])\n",
    "phi9 = np.array(data9['BRNEUT'])\n",
    "gr9 = np.array(data9['BRGR'])\n",
    "z9 = data9.index\n",
    "\n",
    "vp9 = (10**3/dtp9)*0.3048 #km/s\n",
    "\n",
    "phi_den9 = porosity_calc(rho9,2.8,1.05)\n",
    "\n",
    "twt9 = np.array(data9['TWT'])"
   ]
  },
  {
   "cell_type": "code",
   "execution_count": 12,
   "metadata": {},
   "outputs": [],
   "source": [
    "data12 = well12_df\n",
    "res12 = np.array(data12['BRRESP'])\n",
    "rho12 = np.array(data12['BRDENS'])\n",
    "dtp12 = np.array(data12['BRDTP'])\n",
    "phi12 = np.array(data12['BRNEUT'])\n",
    "gr12 = np.array(data12['BRGR'])\n",
    "z12 = data12.index\n",
    "\n",
    "vp12 = (10**3/dtp12)*0.3048 #km/s\n",
    "\n",
    "phi_den12 = porosity_calc(rho12,2.8,1.05)\n",
    "\n",
    "twt12 = np.array(data12['TWT'])"
   ]
  },
  {
   "cell_type": "code",
   "execution_count": 13,
   "metadata": {},
   "outputs": [],
   "source": [
    "data14 = well14_df\n",
    "# res14 = np.array(data14['RT90'])[+500:-500]\n",
    "# rho14 = np.array(data14['RHOB'])[+500:-500]\n",
    "# dtp14 = np.array(data14['DT'])[+500:-500]\n",
    "# phi14 = np.array(data14['NPHI'])[+500:-500]\n",
    "# gr14 = np.array(data14['GR'])[+500:-500]\n",
    "# z14 = data14.index[+500:-500]\n",
    "res14 = np.array(data14['RT90'])\n",
    "rho14 = np.array(data14['RHOB'])\n",
    "dtp14 = np.array(data14['DT'])\n",
    "phi14 = np.array(data14['NPHI'])\n",
    "gr14 = np.array(data14['GR'])\n",
    "z14 = data14.index\n",
    "\n",
    "vp14 = (10**3/dtp14)*0.3048 #km/s\n",
    "\n",
    "phi_den14 = porosity_calc(rho14,2.8,1.05)\n",
    "\n",
    "twt14 = np.array(data14['TWT'])"
   ]
  },
  {
   "cell_type": "code",
   "execution_count": 14,
   "metadata": {},
   "outputs": [],
   "source": [
    "data18 = well18_df\n",
    "res18 = np.array(data18['BRRESP'])\n",
    "rho18 = np.array(data18['BRDENS'])\n",
    "dtp18 = np.array(data18['BRDTP'])\n",
    "phi18 = np.array(data18['BRNEUT'])*1e2\n",
    "gr18 = np.array(data18['BRGR'])\n",
    "z18 = data18.index\n",
    "\n",
    "vp18 = (10**3/dtp18)*0.3048 #km/s\n",
    "\n",
    "phi_den18 = porosity_calc(rho18,2.8,1.05)\n",
    "\n",
    "twt18 = np.array(data18['TWT'])"
   ]
  },
  {
   "cell_type": "markdown",
   "metadata": {},
   "source": [
    "# sismica"
   ]
  },
  {
   "cell_type": "code",
   "execution_count": 15,
   "metadata": {},
   "outputs": [
    {
     "name": "stdout",
     "output_type": "stream",
     "text": [
      "3D data\\buzios_corte_tempo_ext.sgy True\n"
     ]
    }
   ],
   "source": [
    "V3D_path = pathlib.Path(\"data/buzios_corte_tempo_ext.sgy\")\n",
    "# V3D_path = pathlib.Path(\"../datasets/ffb/Area_Teste_Interpretabilidade_10-04-24.sgy\")\n",
    "print(\"3D\", V3D_path, V3D_path.exists())"
   ]
  },
  {
   "cell_type": "code",
   "execution_count": 16,
   "metadata": {},
   "outputs": [
    {
     "name": "stderr",
     "output_type": "stream",
     "text": [
      "100%|██████████| 69.7k/69.7k [00:10<00:00, 6.96k traces/s]\n"
     ]
    },
    {
     "name": "stdout",
     "output_type": "stream",
     "text": [
      "Loading as 3D\n",
      "Fast direction is INLINE_3D\n"
     ]
    },
    {
     "name": "stderr",
     "output_type": "stream",
     "text": [
      "Converting SEGY: 100%|██████████| 69.7k/69.7k [00:40<00:00, 1.72k traces/s]\n"
     ]
    },
    {
     "data": {
      "text/html": [
       "<div><svg style=\"position: absolute; width: 0; height: 0; overflow: hidden\">\n",
       "<defs>\n",
       "<symbol id=\"icon-database\" viewBox=\"0 0 32 32\">\n",
       "<path d=\"M16 0c-8.837 0-16 2.239-16 5v4c0 2.761 7.163 5 16 5s16-2.239 16-5v-4c0-2.761-7.163-5-16-5z\"></path>\n",
       "<path d=\"M16 17c-8.837 0-16-2.239-16-5v6c0 2.761 7.163 5 16 5s16-2.239 16-5v-6c0 2.761-7.163 5-16 5z\"></path>\n",
       "<path d=\"M16 26c-8.837 0-16-2.239-16-5v6c0 2.761 7.163 5 16 5s16-2.239 16-5v-6c0 2.761-7.163 5-16 5z\"></path>\n",
       "</symbol>\n",
       "<symbol id=\"icon-file-text2\" viewBox=\"0 0 32 32\">\n",
       "<path d=\"M28.681 7.159c-0.694-0.947-1.662-2.053-2.724-3.116s-2.169-2.030-3.116-2.724c-1.612-1.182-2.393-1.319-2.841-1.319h-15.5c-1.378 0-2.5 1.121-2.5 2.5v27c0 1.378 1.122 2.5 2.5 2.5h23c1.378 0 2.5-1.122 2.5-2.5v-19.5c0-0.448-0.137-1.23-1.319-2.841zM24.543 5.457c0.959 0.959 1.712 1.825 2.268 2.543h-4.811v-4.811c0.718 0.556 1.584 1.309 2.543 2.268zM28 29.5c0 0.271-0.229 0.5-0.5 0.5h-23c-0.271 0-0.5-0.229-0.5-0.5v-27c0-0.271 0.229-0.5 0.5-0.5 0 0 15.499-0 15.5 0v7c0 0.552 0.448 1 1 1h7v19.5z\"></path>\n",
       "<path d=\"M23 26h-14c-0.552 0-1-0.448-1-1s0.448-1 1-1h14c0.552 0 1 0.448 1 1s-0.448 1-1 1z\"></path>\n",
       "<path d=\"M23 22h-14c-0.552 0-1-0.448-1-1s0.448-1 1-1h14c0.552 0 1 0.448 1 1s-0.448 1-1 1z\"></path>\n",
       "<path d=\"M23 18h-14c-0.552 0-1-0.448-1-1s0.448-1 1-1h14c0.552 0 1 0.448 1 1s-0.448 1-1 1z\"></path>\n",
       "</symbol>\n",
       "</defs>\n",
       "</svg>\n",
       "<style>/* CSS stylesheet for displaying xarray objects in jupyterlab.\n",
       " *\n",
       " */\n",
       "\n",
       ":root {\n",
       "  --xr-font-color0: var(--jp-content-font-color0, rgba(0, 0, 0, 1));\n",
       "  --xr-font-color2: var(--jp-content-font-color2, rgba(0, 0, 0, 0.54));\n",
       "  --xr-font-color3: var(--jp-content-font-color3, rgba(0, 0, 0, 0.38));\n",
       "  --xr-border-color: var(--jp-border-color2, #e0e0e0);\n",
       "  --xr-disabled-color: var(--jp-layout-color3, #bdbdbd);\n",
       "  --xr-background-color: var(--jp-layout-color0, white);\n",
       "  --xr-background-color-row-even: var(--jp-layout-color1, white);\n",
       "  --xr-background-color-row-odd: var(--jp-layout-color2, #eeeeee);\n",
       "}\n",
       "\n",
       "html[theme=dark],\n",
       "body[data-theme=dark],\n",
       "body.vscode-dark {\n",
       "  --xr-font-color0: rgba(255, 255, 255, 1);\n",
       "  --xr-font-color2: rgba(255, 255, 255, 0.54);\n",
       "  --xr-font-color3: rgba(255, 255, 255, 0.38);\n",
       "  --xr-border-color: #1F1F1F;\n",
       "  --xr-disabled-color: #515151;\n",
       "  --xr-background-color: #111111;\n",
       "  --xr-background-color-row-even: #111111;\n",
       "  --xr-background-color-row-odd: #313131;\n",
       "}\n",
       "\n",
       ".xr-wrap {\n",
       "  display: block !important;\n",
       "  min-width: 300px;\n",
       "  max-width: 700px;\n",
       "}\n",
       "\n",
       ".xr-text-repr-fallback {\n",
       "  /* fallback to plain text repr when CSS is not injected (untrusted notebook) */\n",
       "  display: none;\n",
       "}\n",
       "\n",
       ".xr-header {\n",
       "  padding-top: 6px;\n",
       "  padding-bottom: 6px;\n",
       "  margin-bottom: 4px;\n",
       "  border-bottom: solid 1px var(--xr-border-color);\n",
       "}\n",
       "\n",
       ".xr-header > div,\n",
       ".xr-header > ul {\n",
       "  display: inline;\n",
       "  margin-top: 0;\n",
       "  margin-bottom: 0;\n",
       "}\n",
       "\n",
       ".xr-obj-type,\n",
       ".xr-array-name {\n",
       "  margin-left: 2px;\n",
       "  margin-right: 10px;\n",
       "}\n",
       "\n",
       ".xr-obj-type {\n",
       "  color: var(--xr-font-color2);\n",
       "}\n",
       "\n",
       ".xr-sections {\n",
       "  padding-left: 0 !important;\n",
       "  display: grid;\n",
       "  grid-template-columns: 150px auto auto 1fr 20px 20px;\n",
       "}\n",
       "\n",
       ".xr-section-item {\n",
       "  display: contents;\n",
       "}\n",
       "\n",
       ".xr-section-item input {\n",
       "  display: none;\n",
       "}\n",
       "\n",
       ".xr-section-item input + label {\n",
       "  color: var(--xr-disabled-color);\n",
       "}\n",
       "\n",
       ".xr-section-item input:enabled + label {\n",
       "  cursor: pointer;\n",
       "  color: var(--xr-font-color2);\n",
       "}\n",
       "\n",
       ".xr-section-item input:enabled + label:hover {\n",
       "  color: var(--xr-font-color0);\n",
       "}\n",
       "\n",
       ".xr-section-summary {\n",
       "  grid-column: 1;\n",
       "  color: var(--xr-font-color2);\n",
       "  font-weight: 500;\n",
       "}\n",
       "\n",
       ".xr-section-summary > span {\n",
       "  display: inline-block;\n",
       "  padding-left: 0.5em;\n",
       "}\n",
       "\n",
       ".xr-section-summary-in:disabled + label {\n",
       "  color: var(--xr-font-color2);\n",
       "}\n",
       "\n",
       ".xr-section-summary-in + label:before {\n",
       "  display: inline-block;\n",
       "  content: '►';\n",
       "  font-size: 11px;\n",
       "  width: 15px;\n",
       "  text-align: center;\n",
       "}\n",
       "\n",
       ".xr-section-summary-in:disabled + label:before {\n",
       "  color: var(--xr-disabled-color);\n",
       "}\n",
       "\n",
       ".xr-section-summary-in:checked + label:before {\n",
       "  content: '▼';\n",
       "}\n",
       "\n",
       ".xr-section-summary-in:checked + label > span {\n",
       "  display: none;\n",
       "}\n",
       "\n",
       ".xr-section-summary,\n",
       ".xr-section-inline-details {\n",
       "  padding-top: 4px;\n",
       "  padding-bottom: 4px;\n",
       "}\n",
       "\n",
       ".xr-section-inline-details {\n",
       "  grid-column: 2 / -1;\n",
       "}\n",
       "\n",
       ".xr-section-details {\n",
       "  display: none;\n",
       "  grid-column: 1 / -1;\n",
       "  margin-bottom: 5px;\n",
       "}\n",
       "\n",
       ".xr-section-summary-in:checked ~ .xr-section-details {\n",
       "  display: contents;\n",
       "}\n",
       "\n",
       ".xr-array-wrap {\n",
       "  grid-column: 1 / -1;\n",
       "  display: grid;\n",
       "  grid-template-columns: 20px auto;\n",
       "}\n",
       "\n",
       ".xr-array-wrap > label {\n",
       "  grid-column: 1;\n",
       "  vertical-align: top;\n",
       "}\n",
       "\n",
       ".xr-preview {\n",
       "  color: var(--xr-font-color3);\n",
       "}\n",
       "\n",
       ".xr-array-preview,\n",
       ".xr-array-data {\n",
       "  padding: 0 5px !important;\n",
       "  grid-column: 2;\n",
       "}\n",
       "\n",
       ".xr-array-data,\n",
       ".xr-array-in:checked ~ .xr-array-preview {\n",
       "  display: none;\n",
       "}\n",
       "\n",
       ".xr-array-in:checked ~ .xr-array-data,\n",
       ".xr-array-preview {\n",
       "  display: inline-block;\n",
       "}\n",
       "\n",
       ".xr-dim-list {\n",
       "  display: inline-block !important;\n",
       "  list-style: none;\n",
       "  padding: 0 !important;\n",
       "  margin: 0;\n",
       "}\n",
       "\n",
       ".xr-dim-list li {\n",
       "  display: inline-block;\n",
       "  padding: 0;\n",
       "  margin: 0;\n",
       "}\n",
       "\n",
       ".xr-dim-list:before {\n",
       "  content: '(';\n",
       "}\n",
       "\n",
       ".xr-dim-list:after {\n",
       "  content: ')';\n",
       "}\n",
       "\n",
       ".xr-dim-list li:not(:last-child):after {\n",
       "  content: ',';\n",
       "  padding-right: 5px;\n",
       "}\n",
       "\n",
       ".xr-has-index {\n",
       "  font-weight: bold;\n",
       "}\n",
       "\n",
       ".xr-var-list,\n",
       ".xr-var-item {\n",
       "  display: contents;\n",
       "}\n",
       "\n",
       ".xr-var-item > div,\n",
       ".xr-var-item label,\n",
       ".xr-var-item > .xr-var-name span {\n",
       "  background-color: var(--xr-background-color-row-even);\n",
       "  margin-bottom: 0;\n",
       "}\n",
       "\n",
       ".xr-var-item > .xr-var-name:hover span {\n",
       "  padding-right: 5px;\n",
       "}\n",
       "\n",
       ".xr-var-list > li:nth-child(odd) > div,\n",
       ".xr-var-list > li:nth-child(odd) > label,\n",
       ".xr-var-list > li:nth-child(odd) > .xr-var-name span {\n",
       "  background-color: var(--xr-background-color-row-odd);\n",
       "}\n",
       "\n",
       ".xr-var-name {\n",
       "  grid-column: 1;\n",
       "}\n",
       "\n",
       ".xr-var-dims {\n",
       "  grid-column: 2;\n",
       "}\n",
       "\n",
       ".xr-var-dtype {\n",
       "  grid-column: 3;\n",
       "  text-align: right;\n",
       "  color: var(--xr-font-color2);\n",
       "}\n",
       "\n",
       ".xr-var-preview {\n",
       "  grid-column: 4;\n",
       "}\n",
       "\n",
       ".xr-var-name,\n",
       ".xr-var-dims,\n",
       ".xr-var-dtype,\n",
       ".xr-preview,\n",
       ".xr-attrs dt {\n",
       "  white-space: nowrap;\n",
       "  overflow: hidden;\n",
       "  text-overflow: ellipsis;\n",
       "  padding-right: 10px;\n",
       "}\n",
       "\n",
       ".xr-var-name:hover,\n",
       ".xr-var-dims:hover,\n",
       ".xr-var-dtype:hover,\n",
       ".xr-attrs dt:hover {\n",
       "  overflow: visible;\n",
       "  width: auto;\n",
       "  z-index: 1;\n",
       "}\n",
       "\n",
       ".xr-var-attrs,\n",
       ".xr-var-data {\n",
       "  display: none;\n",
       "  background-color: var(--xr-background-color) !important;\n",
       "  padding-bottom: 5px !important;\n",
       "}\n",
       "\n",
       ".xr-var-attrs-in:checked ~ .xr-var-attrs,\n",
       ".xr-var-data-in:checked ~ .xr-var-data {\n",
       "  display: block;\n",
       "}\n",
       "\n",
       ".xr-var-data > table {\n",
       "  float: right;\n",
       "}\n",
       "\n",
       ".xr-var-name span,\n",
       ".xr-var-data,\n",
       ".xr-attrs {\n",
       "  padding-left: 25px !important;\n",
       "}\n",
       "\n",
       ".xr-attrs,\n",
       ".xr-var-attrs,\n",
       ".xr-var-data {\n",
       "  grid-column: 1 / -1;\n",
       "}\n",
       "\n",
       "dl.xr-attrs {\n",
       "  padding: 0;\n",
       "  margin: 0;\n",
       "  display: grid;\n",
       "  grid-template-columns: 125px auto;\n",
       "}\n",
       "\n",
       ".xr-attrs dt,\n",
       ".xr-attrs dd {\n",
       "  padding: 0;\n",
       "  margin: 0;\n",
       "  float: left;\n",
       "  padding-right: 10px;\n",
       "  width: auto;\n",
       "}\n",
       "\n",
       ".xr-attrs dt {\n",
       "  font-weight: normal;\n",
       "  grid-column: 1;\n",
       "}\n",
       "\n",
       ".xr-attrs dt:hover span {\n",
       "  display: inline-block;\n",
       "  background: var(--xr-background-color);\n",
       "  padding-right: 10px;\n",
       "}\n",
       "\n",
       ".xr-attrs dd {\n",
       "  grid-column: 2;\n",
       "  white-space: pre-wrap;\n",
       "  word-break: break-all;\n",
       "}\n",
       "\n",
       ".xr-icon-database,\n",
       ".xr-icon-file-text2 {\n",
       "  display: inline-block;\n",
       "  vertical-align: middle;\n",
       "  width: 1em;\n",
       "  height: 1.5em !important;\n",
       "  stroke-width: 0;\n",
       "  stroke: currentColor;\n",
       "  fill: currentColor;\n",
       "}\n",
       "</style><pre class='xr-text-repr-fallback'>&lt;xarray.Dataset&gt;\n",
       "Dimensions:  (iline: 176, xline: 399, twt: 49)\n",
       "Coordinates:\n",
       "  * iline    (iline) uint16 4000 4001 4002 4003 4004 ... 4172 4173 4174 4175\n",
       "  * xline    (xline) uint16 2200 2201 2202 2203 2204 ... 2597 2598 2599 2600\n",
       "  * twt      (twt) float64 4.898e+03 4.902e+03 4.906e+03 ... 5.086e+03 5.09e+03\n",
       "Data variables:\n",
       "    data     (iline, xline, twt) float32 -0.1251 -0.5392 ... -0.4145 -0.4634\n",
       "Attributes: (12/13)\n",
       "    ns:                  None\n",
       "    sample_rate:         4.0\n",
       "    text:                C 1 3D VOLUME\\nC 2 HEADER BYTE LOCATIONS AND TYPES:\\...\n",
       "    measurement_system:  0\n",
       "    d3_domain:           None\n",
       "    epsg:                None\n",
       "    ...                  ...\n",
       "    corner_points_xy:    None\n",
       "    source_file:         buzios_corte_tempo_ext.sgy\n",
       "    srd:                 None\n",
       "    datatype:            None\n",
       "    percentiles:         [-1.8118953313540063, -1.8024231615736244, -1.103852...\n",
       "    coord_scalar:        -10.0</pre><div class='xr-wrap' style='display:none'><div class='xr-header'><div class='xr-obj-type'>xarray.Dataset</div></div><ul class='xr-sections'><li class='xr-section-item'><input id='section-713209fc-7ead-43c0-9378-162ff8174144' class='xr-section-summary-in' type='checkbox' disabled ><label for='section-713209fc-7ead-43c0-9378-162ff8174144' class='xr-section-summary'  title='Expand/collapse section'>Dimensions:</label><div class='xr-section-inline-details'><ul class='xr-dim-list'><li><span class='xr-has-index'>iline</span>: 176</li><li><span class='xr-has-index'>xline</span>: 399</li><li><span class='xr-has-index'>twt</span>: 49</li></ul></div><div class='xr-section-details'></div></li><li class='xr-section-item'><input id='section-dfe9b3e0-5583-425a-87f9-e0feb816815d' class='xr-section-summary-in' type='checkbox'  checked><label for='section-dfe9b3e0-5583-425a-87f9-e0feb816815d' class='xr-section-summary' >Coordinates: <span>(3)</span></label><div class='xr-section-inline-details'></div><div class='xr-section-details'><ul class='xr-var-list'><li class='xr-var-item'><div class='xr-var-name'><span class='xr-has-index'>iline</span></div><div class='xr-var-dims'>(iline)</div><div class='xr-var-dtype'>uint16</div><div class='xr-var-preview xr-preview'>4000 4001 4002 ... 4173 4174 4175</div><input id='attrs-cb1aa553-344f-420d-809f-01f5be020cbf' class='xr-var-attrs-in' type='checkbox' disabled><label for='attrs-cb1aa553-344f-420d-809f-01f5be020cbf' title='Show/Hide attributes'><svg class='icon xr-icon-file-text2'><use xlink:href='#icon-file-text2'></use></svg></label><input id='data-80a10a14-1f57-48e3-b21a-0238d1956925' class='xr-var-data-in' type='checkbox'><label for='data-80a10a14-1f57-48e3-b21a-0238d1956925' title='Show/Hide data repr'><svg class='icon xr-icon-database'><use xlink:href='#icon-database'></use></svg></label><div class='xr-var-attrs'><dl class='xr-attrs'></dl></div><div class='xr-var-data'><pre>array([4000, 4001, 4002, 4003, 4004, 4005, 4006, 4007, 4008, 4009, 4010, 4011,\n",
       "       4012, 4013, 4014, 4015, 4016, 4017, 4018, 4019, 4020, 4021, 4022, 4023,\n",
       "       4024, 4025, 4026, 4027, 4028, 4029, 4030, 4031, 4032, 4033, 4034, 4035,\n",
       "       4036, 4037, 4038, 4039, 4040, 4041, 4042, 4043, 4044, 4045, 4046, 4047,\n",
       "       4048, 4049, 4050, 4051, 4052, 4053, 4054, 4055, 4056, 4057, 4058, 4059,\n",
       "       4060, 4061, 4062, 4063, 4064, 4065, 4066, 4067, 4068, 4069, 4070, 4071,\n",
       "       4072, 4073, 4074, 4075, 4076, 4077, 4078, 4079, 4080, 4081, 4082, 4083,\n",
       "       4084, 4085, 4086, 4087, 4088, 4089, 4090, 4091, 4092, 4093, 4094, 4095,\n",
       "       4096, 4097, 4098, 4099, 4100, 4101, 4102, 4103, 4104, 4105, 4106, 4107,\n",
       "       4108, 4109, 4110, 4111, 4112, 4113, 4114, 4115, 4116, 4117, 4118, 4119,\n",
       "       4120, 4121, 4122, 4123, 4124, 4125, 4126, 4127, 4128, 4129, 4130, 4131,\n",
       "       4132, 4133, 4134, 4135, 4136, 4137, 4138, 4139, 4140, 4141, 4142, 4143,\n",
       "       4144, 4145, 4146, 4147, 4148, 4149, 4150, 4151, 4152, 4153, 4154, 4155,\n",
       "       4156, 4157, 4158, 4159, 4160, 4161, 4162, 4163, 4164, 4165, 4166, 4167,\n",
       "       4168, 4169, 4170, 4171, 4172, 4173, 4174, 4175], dtype=uint16)</pre></div></li><li class='xr-var-item'><div class='xr-var-name'><span class='xr-has-index'>xline</span></div><div class='xr-var-dims'>(xline)</div><div class='xr-var-dtype'>uint16</div><div class='xr-var-preview xr-preview'>2200 2201 2202 ... 2598 2599 2600</div><input id='attrs-1e1c1c05-4a39-44d6-807e-c493f4d130e3' class='xr-var-attrs-in' type='checkbox' disabled><label for='attrs-1e1c1c05-4a39-44d6-807e-c493f4d130e3' title='Show/Hide attributes'><svg class='icon xr-icon-file-text2'><use xlink:href='#icon-file-text2'></use></svg></label><input id='data-38b0bc52-4aa5-4503-8072-05af8d22b771' class='xr-var-data-in' type='checkbox'><label for='data-38b0bc52-4aa5-4503-8072-05af8d22b771' title='Show/Hide data repr'><svg class='icon xr-icon-database'><use xlink:href='#icon-database'></use></svg></label><div class='xr-var-attrs'><dl class='xr-attrs'></dl></div><div class='xr-var-data'><pre>array([2200, 2201, 2202, ..., 2598, 2599, 2600], dtype=uint16)</pre></div></li><li class='xr-var-item'><div class='xr-var-name'><span class='xr-has-index'>twt</span></div><div class='xr-var-dims'>(twt)</div><div class='xr-var-dtype'>float64</div><div class='xr-var-preview xr-preview'>4.898e+03 4.902e+03 ... 5.09e+03</div><input id='attrs-6e88e807-5363-48ab-9fd3-b5b9c304a373' class='xr-var-attrs-in' type='checkbox' disabled><label for='attrs-6e88e807-5363-48ab-9fd3-b5b9c304a373' title='Show/Hide attributes'><svg class='icon xr-icon-file-text2'><use xlink:href='#icon-file-text2'></use></svg></label><input id='data-4c257171-baa1-48f9-87e2-112124b4bcd5' class='xr-var-data-in' type='checkbox'><label for='data-4c257171-baa1-48f9-87e2-112124b4bcd5' title='Show/Hide data repr'><svg class='icon xr-icon-database'><use xlink:href='#icon-database'></use></svg></label><div class='xr-var-attrs'><dl class='xr-attrs'></dl></div><div class='xr-var-data'><pre>array([4898., 4902., 4906., 4910., 4914., 4918., 4922., 4926., 4930., 4934.,\n",
       "       4938., 4942., 4946., 4950., 4954., 4958., 4962., 4966., 4970., 4974.,\n",
       "       4978., 4982., 4986., 4990., 4994., 4998., 5002., 5006., 5010., 5014.,\n",
       "       5018., 5022., 5026., 5030., 5034., 5038., 5042., 5046., 5050., 5054.,\n",
       "       5058., 5062., 5066., 5070., 5074., 5078., 5082., 5086., 5090.])</pre></div></li></ul></div></li><li class='xr-section-item'><input id='section-8ace85b7-eb4e-49b7-b47c-59c5a889d4cb' class='xr-section-summary-in' type='checkbox'  checked><label for='section-8ace85b7-eb4e-49b7-b47c-59c5a889d4cb' class='xr-section-summary' >Data variables: <span>(1)</span></label><div class='xr-section-inline-details'></div><div class='xr-section-details'><ul class='xr-var-list'><li class='xr-var-item'><div class='xr-var-name'><span>data</span></div><div class='xr-var-dims'>(iline, xline, twt)</div><div class='xr-var-dtype'>float32</div><div class='xr-var-preview xr-preview'>-0.1251 -0.5392 ... -0.4145 -0.4634</div><input id='attrs-caed4d48-7ff9-446b-b58c-954d0480b094' class='xr-var-attrs-in' type='checkbox' disabled><label for='attrs-caed4d48-7ff9-446b-b58c-954d0480b094' title='Show/Hide attributes'><svg class='icon xr-icon-file-text2'><use xlink:href='#icon-file-text2'></use></svg></label><input id='data-4c96dc37-e239-4012-a944-3ce82a44df9e' class='xr-var-data-in' type='checkbox'><label for='data-4c96dc37-e239-4012-a944-3ce82a44df9e' title='Show/Hide data repr'><svg class='icon xr-icon-database'><use xlink:href='#icon-database'></use></svg></label><div class='xr-var-attrs'><dl class='xr-attrs'></dl></div><div class='xr-var-data'><pre>array([[[-0.12512243, -0.5391587 , -0.71691155, ...,  1.2921009 ,\n",
       "          0.01051257, -1.3055363 ],\n",
       "        [ 0.06463909, -0.42668784, -0.7528884 , ...,  1.3420916 ,\n",
       "          0.19052273, -1.1593695 ],\n",
       "        [ 0.23034978, -0.27242923, -0.7167128 , ...,  1.3541098 ,\n",
       "          0.37060964, -1.0098095 ],\n",
       "        ...,\n",
       "        [ 0.12005293,  0.1239059 ,  0.08266437, ...,  0.40506327,\n",
       "          0.71294725,  0.73459285],\n",
       "        [ 0.15669811,  0.21892709,  0.20616746, ...,  0.43923265,\n",
       "          0.71324575,  0.7203314 ],\n",
       "        [ 0.18194747,  0.24141943,  0.2089293 , ...,  0.50969017,\n",
       "          0.77788365,  0.7434463 ]],\n",
       "\n",
       "       [[-0.05216698, -0.40491998, -0.7036482 , ...,  0.8979348 ,\n",
       "         -0.11102194, -1.2290239 ],\n",
       "        [ 0.05176488, -0.34313148, -0.7220392 , ...,  1.0027227 ,\n",
       "          0.09833825, -1.1133251 ],\n",
       "        [ 0.16211456, -0.2198093 , -0.67206144, ...,  1.0943251 ,\n",
       "          0.30703253, -0.96846145],\n",
       "...\n",
       "        [ 1.349863  ,  0.89396834,  0.5071565 , ..., -0.82672906,\n",
       "         -0.78716785, -0.9022467 ],\n",
       "        [ 1.4449158 ,  0.97588825,  0.55583537, ..., -0.69438046,\n",
       "         -0.71524894, -0.98332834],\n",
       "        [ 1.5726166 ,  1.0641022 ,  0.6254604 , ..., -0.70268685,\n",
       "         -0.79794395, -1.0765362 ]],\n",
       "\n",
       "       [[ 0.27435386,  0.27935094,  0.15001762, ..., -0.6374741 ,\n",
       "         -0.5297924 , -0.3359939 ],\n",
       "        [ 0.26449358,  0.26912868,  0.15250868, ..., -0.61542505,\n",
       "         -0.56093234, -0.40931386],\n",
       "        [ 0.24248016,  0.26125103,  0.17407751, ..., -0.59551555,\n",
       "         -0.5974061 , -0.4853276 ],\n",
       "        ...,\n",
       "        [ 1.4689016 ,  1.149765  ,  0.74273014, ..., -0.7129851 ,\n",
       "         -0.37433386, -0.37041795],\n",
       "        [ 1.7145891 ,  1.264493  ,  0.7533586 , ..., -0.6354117 ,\n",
       "         -0.37117672, -0.41283494],\n",
       "        [ 1.8565149 ,  1.3554068 ,  0.8327447 , ..., -0.61599   ,\n",
       "         -0.4145146 , -0.4633848 ]]], dtype=float32)</pre></div></li></ul></div></li><li class='xr-section-item'><input id='section-dbd75193-a5ef-4b80-960f-3339bcc1ec0b' class='xr-section-summary-in' type='checkbox'  ><label for='section-dbd75193-a5ef-4b80-960f-3339bcc1ec0b' class='xr-section-summary' >Attributes: <span>(13)</span></label><div class='xr-section-inline-details'></div><div class='xr-section-details'><dl class='xr-attrs'><dt><span>ns :</span></dt><dd>None</dd><dt><span>sample_rate :</span></dt><dd>4.0</dd><dt><span>text :</span></dt><dd>C 1 3D VOLUME\n",
       "C 2 HEADER BYTE LOCATIONS AND TYPES:\n",
       "C 3     3D INLINE : 189-192 (4-BYTE INT)    3D CROSSLINE: 193-196 (4-BYTE INT)\n",
       "C 4     ENSEMBLE X: 181-184 (4-BYTE INT)    ENSEMBLE Y  : 185-188 (4-BYTE INT)\n",
       "C 5\n",
       "C 6 SAMPLES/TRACE     :         49\n",
       "C 7 SAMPLE INTERVAL   :       4000 microseconds\n",
       "C 8 FIRST SAMPLE AT   :       4898 ms\n",
       "C 9 VERTICAL DIMENSION: TWT (ms)\n",
       "C10 SAMPLE RECORDING FORMAT: IBM FLOATING POINT (4-BYTE)\n",
       "C11 X/Y Min/Max       : X:741280.14-767058.81 Y:7249472.95-7277339.93\n",
       "C12\n",
       "C13\n",
       "C14\n",
       "C15\n",
       "C16\n",
       "C17\n",
       "C18\n",
       "C19\n",
       "C20\n",
       "C21\n",
       "C22\n",
       "C23\n",
       "C24\n",
       "C25\n",
       "C26\n",
       "C27\n",
       "C28\n",
       "C29\n",
       "C30\n",
       "C31\n",
       "C32\n",
       "C33\n",
       "C34\n",
       "C35\n",
       "C36\n",
       "C37\n",
       "C38 WRITTEN BY DUG INSIGHT VERSION 5.1 (408271)             http://www.dug.com/\n",
       "C39 SEG Y REV1\n",
       "C40 END TEXTUAL HEADER</dd><dt><span>measurement_system :</span></dt><dd>0</dd><dt><span>d3_domain :</span></dt><dd>None</dd><dt><span>epsg :</span></dt><dd>None</dd><dt><span>corner_points :</span></dt><dd>None</dd><dt><span>corner_points_xy :</span></dt><dd>None</dd><dt><span>source_file :</span></dt><dd>buzios_corte_tempo_ext.sgy</dd><dt><span>srd :</span></dt><dd>None</dd><dt><span>datatype :</span></dt><dd>None</dd><dt><span>percentiles :</span></dt><dd>[-1.8118953313540063, -1.8024231615736244, -1.1038529640658967, -0.2363999410860252, 1.3497643245345965, 2.0015106853261617, 2.006630919215712]</dd><dt><span>coord_scalar :</span></dt><dd>-10.0</dd></dl></div></li></ul></div></div>"
      ],
      "text/plain": [
       "<xarray.Dataset>\n",
       "Dimensions:  (iline: 176, xline: 399, twt: 49)\n",
       "Coordinates:\n",
       "  * iline    (iline) uint16 4000 4001 4002 4003 4004 ... 4172 4173 4174 4175\n",
       "  * xline    (xline) uint16 2200 2201 2202 2203 2204 ... 2597 2598 2599 2600\n",
       "  * twt      (twt) float64 4.898e+03 4.902e+03 4.906e+03 ... 5.086e+03 5.09e+03\n",
       "Data variables:\n",
       "    data     (iline, xline, twt) float32 -0.1251 -0.5392 ... -0.4145 -0.4634\n",
       "Attributes: (12/13)\n",
       "    ns:                  None\n",
       "    sample_rate:         4.0\n",
       "    text:                C 1 3D VOLUME\\nC 2 HEADER BYTE LOCATIONS AND TYPES:\\...\n",
       "    measurement_system:  0\n",
       "    d3_domain:           None\n",
       "    epsg:                None\n",
       "    ...                  ...\n",
       "    corner_points_xy:    None\n",
       "    source_file:         buzios_corte_tempo_ext.sgy\n",
       "    srd:                 None\n",
       "    datatype:            None\n",
       "    percentiles:         [-1.8118953313540063, -1.8024231615736244, -1.103852...\n",
       "    coord_scalar:        -10.0"
      ]
     },
     "execution_count": 16,
     "metadata": {},
     "output_type": "execute_result"
    }
   ],
   "source": [
    "V3D = segy_loader(V3D_path, iline=189, xline=193, vert_domain=\"TWT\")\n",
    "V3D"
   ]
  },
  {
   "cell_type": "code",
   "execution_count": 17,
   "metadata": {},
   "outputs": [],
   "source": [
    "coord3 = [4131, 2572]\n",
    "coord5 = [4075, 2472]\n",
    "coord8 = [4102, 2360]\n",
    "coord9 = [4070, 2155]\n",
    "coord12 = [4168, 2525]\n",
    "coord14 = [4065, 2492]\n",
    "coord18 = [4114, 2500]"
   ]
  },
  {
   "cell_type": "code",
   "execution_count": 18,
   "metadata": {},
   "outputs": [],
   "source": [
    "sismica3 = V3D.data.sel(iline = coord3[0], xline = coord3[1]).data\n",
    "sismica5 = V3D.data.sel(iline = coord5[0], xline = coord5[1]).data\n",
    "sismica8 = V3D.data.sel(iline = coord8[0], xline = coord8[1]).data\n",
    "# sismica9 = V3D.data.sel(iline = 4070, xline = 2155).data\n",
    "sismica12 = V3D.data.sel(iline = coord12[0], xline = coord12[1]).data\n",
    "sismica14 = V3D.data.sel(iline = coord14[0], xline = coord14[1]).data\n",
    "sismica18 = V3D.data.sel(iline = coord18[0], xline = coord18[1]).data"
   ]
  },
  {
   "cell_type": "code",
   "execution_count": 19,
   "metadata": {},
   "outputs": [
    {
     "data": {
      "image/png": "[encoded data removed]",
      "text/plain": [
       "<Figure size 640x480 with 1 Axes>"
      ]
     },
     "metadata": {},
     "output_type": "display_data"
    }
   ],
   "source": [
    "split = 140\n",
    "\n",
    "wells = ['3: 7buz23rjs', '5: 7-buz-29-rjs', '8: 8-buz-26-rjs', \n",
    "         '12: 8buz20rjs', '14: 7-buz-10-rjs', '18: 3-brsa-1053-rjs']\n",
    "for idx, coord in enumerate([coord3, coord5, coord8, coord12, coord14, coord18, ]):\n",
    "    plt.scatter(coord[0], coord[1], label = f'well {wells[idx]}');\n",
    "plt.legend(bbox_to_anchor = (1.1, 1.05));\n",
    "plt.xlim([V3D.iline[0].data, V3D.iline[-1].data]);\n",
    "plt.ylim([V3D.xline[0].data, V3D.xline[-1].data]);\n",
    "plt.axvline(x = V3D.iline[0].data + split, linestyle = 'dashed', color = 'black');"
   ]
  },
  {
   "cell_type": "markdown",
   "metadata": {},
   "source": [
    "# wavelet"
   ]
  },
  {
   "cell_type": "code",
   "execution_count": 20,
   "metadata": {},
   "outputs": [
    {
     "data": {
      "text/plain": [
       "(26,)"
      ]
     },
     "execution_count": 20,
     "metadata": {},
     "output_type": "execute_result"
    },
    {
     "data": {
      "image/png": "[encoded data removed]",
      "text/plain": [
       "<Figure size 640x480 with 1 Axes>"
      ]
     },
     "metadata": {},
     "output_type": "display_data"
    }
   ],
   "source": [
    "df_100_20_Z_4898_5092 = pd.read_csv('data/wav_100_20_Z_4898_5092.dat', \n",
    "                           header = None, sep = '\\t')\n",
    "wav_100_20_Z_4898_5092 = df_100_20_Z_4898_5092[1].values\n",
    "plt.plot(df_100_20_Z_4898_5092[0].values, wav_100_20_Z_4898_5092); plt.xlabel('ms');\n",
    "wav_100_20_Z_4898_5092.shape"
   ]
  },
  {
   "cell_type": "code",
   "execution_count": 21,
   "metadata": {},
   "outputs": [],
   "source": [
    "wvlt = wav_100_20_Z_4898_5092"
   ]
  },
  {
   "cell_type": "markdown",
   "metadata": {},
   "source": [
    "# read"
   ]
  },
  {
   "cell_type": "code",
   "execution_count": 22,
   "metadata": {},
   "outputs": [
    {
     "data": {
      "text/plain": [
       "(176, 399, 49)"
      ]
     },
     "execution_count": 22,
     "metadata": {},
     "output_type": "execute_result"
    }
   ],
   "source": [
    "seis = V3D.data\n",
    "seis.shape"
   ]
  },
  {
   "cell_type": "code",
   "execution_count": 23,
   "metadata": {},
   "outputs": [
    {
     "data": {
      "text/plain": [
       "(55860, 49)"
      ]
     },
     "execution_count": 23,
     "metadata": {},
     "output_type": "execute_result"
    }
   ],
   "source": [
    "np.array(seis[:split, :, :]).reshape(-1, seis.shape[-1]).shape"
   ]
  },
  {
   "cell_type": "code",
   "execution_count": 24,
   "metadata": {},
   "outputs": [
    {
     "name": "stdout",
     "output_type": "stream",
     "text": [
      "number of training examples = 55860\n",
      "number of test examples = 14364\n",
      "X_train shape: (55860, 1, 49, 1)\n",
      "X_test shape: (14364, 1, 49, 1)\n"
     ]
    }
   ],
   "source": [
    "seis_normalized = (seis - np.min(seis)) / (np.max(seis) - np.min(seis))\n",
    "\n",
    "# X_train, X_test = sklearn.model_selection.train_test_split(seis_normalized, test_size = 0.2, random_state = 1)\n",
    "X_train = np.array(seis[:split, :, :]).reshape(-1, seis.shape[-1])\n",
    "X_test = np.array(seis[split:, :, :]).reshape(-1, seis.shape[-1])\n",
    "\n",
    "X_train_final = np.expand_dims(np.expand_dims(X_train, axis=1), axis=3)\n",
    "X_test_final = np.expand_dims(np.expand_dims(X_test, axis=1), axis=3)\n",
    "\n",
    "print (\"number of training examples = \" + str(X_train_final.shape[0]))\n",
    "print (\"number of test examples = \" + str(X_test_final.shape[0]))\n",
    "print (\"X_train shape: \" + str(X_train_final.shape))\n",
    "print (\"X_test shape: \" + str(X_test_final.shape))"
   ]
  },
  {
   "cell_type": "code",
   "execution_count": 25,
   "metadata": {},
   "outputs": [
    {
     "data": {
      "text/plain": [
       "<tf.Tensor: shape=(), dtype=float32, numpy=-0.005115529>"
      ]
     },
     "execution_count": 25,
     "metadata": {},
     "output_type": "execute_result"
    }
   ],
   "source": [
    "denom_seis = tf.reduce_mean(X_train)\n",
    "np.save('output/denom_seis.npy', denom_seis)\n",
    "denom_seis"
   ]
  },
  {
   "cell_type": "code",
   "execution_count": 26,
   "metadata": {},
   "outputs": [
    {
     "data": {
      "image/png": "[encoded data removed]",
      "text/plain": [
       "<Figure size 640x480 with 2 Axes>"
      ]
     },
     "metadata": {},
     "output_type": "display_data"
    }
   ],
   "source": [
    "time_upscaled = V3D.twt.values\n",
    "i = np.random.choice(seis.shape[0], size = 1)[0]\n",
    "\n",
    "plt.subplot(1,2,1);\n",
    "plt.plot(np.squeeze(seis[i, 0, :]), time_upscaled);\n",
    "plt.gca().invert_yaxis();\n",
    "plt.ylabel('Time(s), {}'.format(i));\n",
    "plt.xlabel('Before normalisation');\n",
    "\n",
    "plt.subplot(1,2,2);\n",
    "plt.plot(np.squeeze(seis_normalized[i, 0, :]), time_upscaled);\n",
    "plt.gca().invert_yaxis();\n",
    "plt.xlabel('After normalisation');"
   ]
  },
  {
   "cell_type": "markdown",
   "metadata": {},
   "source": [
    "# regressao"
   ]
  },
  {
   "cell_type": "code",
   "execution_count": null,
   "metadata": {},
   "outputs": [],
   "source": []
  },
  {
   "cell_type": "markdown",
   "metadata": {},
   "source": [
    "# model"
   ]
  },
  {
   "cell_type": "code",
   "execution_count": 27,
   "metadata": {},
   "outputs": [],
   "source": [
    "given_seed = 2\n",
    "\n",
    "input_final = Input(shape=(X_train_final.shape[1:]))\n",
    "\n",
    "# Encoder\n",
    "#1\n",
    "X = Conv2D(32, (1, 3), strides=(1, 2), name='conv0', padding='same',\n",
    "           kernel_initializer=initializers.he_uniform(seed=given_seed), bias_initializer='zeros')(input_final)\n",
    "\n",
    "#X = BatchNormalization(axis=-1, name='bn0')(X)\n",
    "X = Activation('relu')(X)\n",
    "#X = Dropout(rate=0.3, name='drop_conv0')(X)\n",
    "\n",
    "#2\n",
    "X = Conv2D(64, (1, 7), strides=(1, 2), name='conv1',padding='same',\n",
    "           kernel_initializer=initializers.he_uniform(seed=given_seed), bias_initializer='zeros')(X)\n",
    "\n",
    "#X = BatchNormalization(axis=-1, name='bn1')(X)\n",
    "X = Activation('relu')(X)\n",
    "#X = Dropout(rate=0.3, name='drop_conv1')(X)\n",
    "\n",
    "#3\n",
    "X = Conv2D(128, (1, 15), strides=(1, 2), name='conv2',padding='same',\n",
    "           kernel_initializer=initializers.he_uniform(seed=given_seed), bias_initializer='zeros')(X)\n",
    "\n",
    "#X = BatchNormalization(axis=-1, name='bn2')(X)\n",
    "X = Activation('relu')(X)\n",
    "#X = Dropout(rate=0.3, name='drop_conv2')(X)\n",
    "\n",
    "#4 \n",
    "X = Conv2D(256, (1, 30), strides=(1, 2), name='conv3',padding='same',\n",
    "           kernel_initializer=initializers.he_uniform(seed=given_seed), bias_initializer='zeros')(X)\n",
    "          \n",
    "#X = BatchNormalization(axis=-1, name='bn3')(X)\n",
    "X = Activation('relu')(X)\n",
    "X = Dropout(rate=0.3, name='drop_conv3')(X)\n",
    "\n",
    "# FLATTEN X + FULLYCONNECTED\n",
    "X = Flatten()(X)\n",
    "    \n",
    "X = Dense(seis.shape[-1], name='fc0',\n",
    "          kernel_initializer=initializers.he_uniform(seed=given_seed), bias_initializer='zeros')(X)\n",
    "\n",
    "encoded = Activation('tanh')(X) ##to scale the output between –1 and 1 before passing it as input to the decoder\n",
    "\n",
    "# Decoder\n",
    "impedance_time = 1.5 * tf.cast(encoded, tf.float64) + 12.5\n",
    "\n",
    "# Rpp_0 = RC_fwd_model(Vp_time[:,0:-1], RHO_time[:,0:-1], Vp_time[:,1:], RHO_time[:,1:])\n",
    "Rpp_0 = RC_fwd_model_ia(impedance_time[:,0:-1], impedance_time[:,1:])\n",
    "# Rpplast = 0.0 / (Vp_time[:,0])\n",
    "Rpplast = 0.0 / (impedance_time[:,0])\n",
    "Rpp0 = tf.concat([Rpp_0, tf.expand_dims(Rpplast, axis=1)], axis=1)\n",
    "\n",
    "kernel_wvlt = tf.reshape(wvlt, [int(wvlt.shape[0]), 1, 1])\n",
    "RC0 = tf.expand_dims(Rpp0, axis=2)\n",
    "seis_for0 = tf.squeeze(tf.nn.conv1d(RC0, tf.reverse(kernel_wvlt,[0]), 1,'SAME'),axis=2)\n",
    "    \n",
    "seis_for_normalized = (seis_for0 - np.min(seis))/(np.max(seis)-np.min(seis))\n",
    "\n",
    "seis_for_final = tf.concat([seis_for_normalized],axis=1)"
   ]
  },
  {
   "cell_type": "code",
   "execution_count": 28,
   "metadata": {},
   "outputs": [
    {
     "data": {
      "text/plain": [
       "(TensorShape([None, 49]),\n",
       " TensorShape([None, 48]),\n",
       " TensorShape([None]),\n",
       " TensorShape([None, 49]))"
      ]
     },
     "execution_count": 28,
     "metadata": {},
     "output_type": "execute_result"
    }
   ],
   "source": [
    "impedance_time.shape, Rpp_0.shape, Rpplast.shape, Rpp0.shape"
   ]
  },
  {
   "cell_type": "code",
   "execution_count": 29,
   "metadata": {},
   "outputs": [
    {
     "data": {
      "text/plain": [
       "(TensorShape([26, 1, 1]), TensorShape([None, 49, 1]))"
      ]
     },
     "execution_count": 29,
     "metadata": {},
     "output_type": "execute_result"
    }
   ],
   "source": [
    "kernel_wvlt.shape, RC0.shape"
   ]
  },
  {
   "cell_type": "code",
   "execution_count": 30,
   "metadata": {},
   "outputs": [
    {
     "name": "stdout",
     "output_type": "stream",
     "text": [
      "Model: \"model\"\n",
      "__________________________________________________________________________________________________\n",
      "Layer (type)                    Output Shape         Param #     Connected to                     \n",
      "==================================================================================================\n",
      "input_1 (InputLayer)            [(None, 1, 49, 1)]   0                                            \n",
      "__________________________________________________________________________________________________\n",
      "conv0 (Conv2D)                  (None, 1, 25, 32)    128         input_1[0][0]                    \n",
      "__________________________________________________________________________________________________\n",
      "activation (Activation)         (None, 1, 25, 32)    0           conv0[0][0]                      \n",
      "__________________________________________________________________________________________________\n",
      "conv1 (Conv2D)                  (None, 1, 13, 64)    14400       activation[0][0]                 \n",
      "__________________________________________________________________________________________________\n",
      "activation_1 (Activation)       (None, 1, 13, 64)    0           conv1[0][0]                      \n",
      "__________________________________________________________________________________________________\n",
      "conv2 (Conv2D)                  (None, 1, 7, 128)    123008      activation_1[0][0]               \n",
      "__________________________________________________________________________________________________\n",
      "activation_2 (Activation)       (None, 1, 7, 128)    0           conv2[0][0]                      \n",
      "__________________________________________________________________________________________________\n",
      "conv3 (Conv2D)                  (None, 1, 4, 256)    983296      activation_2[0][0]               \n",
      "__________________________________________________________________________________________________\n",
      "activation_3 (Activation)       (None, 1, 4, 256)    0           conv3[0][0]                      \n",
      "__________________________________________________________________________________________________\n",
      "drop_conv3 (Dropout)            (None, 1, 4, 256)    0           activation_3[0][0]               \n",
      "__________________________________________________________________________________________________\n",
      "flatten (Flatten)               (None, 1024)         0           drop_conv3[0][0]                 \n",
      "__________________________________________________________________________________________________\n",
      "fc0 (Dense)                     (None, 49)           50225       flatten[0][0]                    \n",
      "__________________________________________________________________________________________________\n",
      "activation_4 (Activation)       (None, 49)           0           fc0[0][0]                        \n",
      "__________________________________________________________________________________________________\n",
      "tf.cast (TFOpLambda)            (None, 49)           0           activation_4[0][0]               \n",
      "__________________________________________________________________________________________________\n",
      "tf.math.multiply (TFOpLambda)   (None, 49)           0           tf.cast[0][0]                    \n",
      "__________________________________________________________________________________________________\n",
      "tf.__operators__.add (TFOpLambd (None, 49)           0           tf.math.multiply[0][0]           \n",
      "__________________________________________________________________________________________________\n",
      "tf.__operators__.getitem_1 (Sli (None, 48)           0           tf.__operators__.add[0][0]       \n",
      "__________________________________________________________________________________________________\n",
      "tf.__operators__.getitem (Slici (None, 48)           0           tf.__operators__.add[0][0]       \n",
      "__________________________________________________________________________________________________\n",
      "tf.__operators__.getitem_2 (Sli (None,)              0           tf.__operators__.add[0][0]       \n",
      "__________________________________________________________________________________________________\n",
      "tf.math.subtract (TFOpLambda)   (None, 48)           0           tf.__operators__.getitem_1[0][0] \n",
      "                                                                 tf.__operators__.getitem[0][0]   \n",
      "__________________________________________________________________________________________________\n",
      "tf.__operators__.add_1 (TFOpLam (None, 48)           0           tf.__operators__.getitem_1[0][0] \n",
      "                                                                 tf.__operators__.getitem[0][0]   \n",
      "__________________________________________________________________________________________________\n",
      "tf.math.truediv_1 (TFOpLambda)  (None,)              0           tf.__operators__.getitem_2[0][0] \n",
      "__________________________________________________________________________________________________\n",
      "tf.math.truediv (TFOpLambda)    (None, 48)           0           tf.math.subtract[0][0]           \n",
      "                                                                 tf.__operators__.add_1[0][0]     \n",
      "__________________________________________________________________________________________________\n",
      "tf.expand_dims (TFOpLambda)     (None, 1)            0           tf.math.truediv_1[0][0]          \n",
      "__________________________________________________________________________________________________\n",
      "tf.concat (TFOpLambda)          (None, 49)           0           tf.math.truediv[0][0]            \n",
      "                                                                 tf.expand_dims[0][0]             \n",
      "__________________________________________________________________________________________________\n",
      "tf.expand_dims_1 (TFOpLambda)   (None, 49, 1)        0           tf.concat[0][0]                  \n",
      "__________________________________________________________________________________________________\n",
      "tf.compat.v1.nn.conv1d (TFOpLam (None, 49, 1)        0           tf.expand_dims_1[0][0]           \n",
      "__________________________________________________________________________________________________\n",
      "tf.compat.v1.squeeze (TFOpLambd (None, 49)           0           tf.compat.v1.nn.conv1d[0][0]     \n",
      "__________________________________________________________________________________________________\n",
      "tf.math.subtract_1 (TFOpLambda) (None, 49)           0           tf.compat.v1.squeeze[0][0]       \n",
      "__________________________________________________________________________________________________\n",
      "tf.math.truediv_2 (TFOpLambda)  (None, 49)           0           tf.math.subtract_1[0][0]         \n",
      "__________________________________________________________________________________________________\n",
      "tf.identity (TFOpLambda)        (None, 49)           0           tf.math.truediv_2[0][0]          \n",
      "==================================================================================================\n",
      "Total params: 1,171,057\n",
      "Trainable params: 1,171,057\n",
      "Non-trainable params: 0\n",
      "__________________________________________________________________________________________________\n"
     ]
    }
   ],
   "source": [
    "rw_pinn = Model(inputs = input_final, outputs = seis_for_final)\n",
    "rw_pinn.summary()"
   ]
  },
  {
   "cell_type": "markdown",
   "metadata": {},
   "source": [
    "# train"
   ]
  },
  {
   "cell_type": "code",
   "execution_count": 31,
   "metadata": {},
   "outputs": [],
   "source": [
    "class loss_func(tf.keras.losses.Loss):\n",
    "    def __init__(self):\n",
    "        super().__init__()\n",
    "    def call(self, y_true, y_pred):\n",
    "        mse_seis1 = tf.reduce_mean(tf.square(y_pred[:,0:246] - y_true[:,0:246]))\n",
    "        \n",
    "        return tf.math.sqrt(mse_seis1)"
   ]
  },
  {
   "cell_type": "code",
   "execution_count": 32,
   "metadata": {},
   "outputs": [],
   "source": [
    "adam = tf.keras.optimizers.Adam(learning_rate=0.0001, beta_1=0.9, beta_2=0.999, epsilon=1e-07, amsgrad=False)\n",
    "rw_pinn.compile(loss = loss_func(), optimizer = adam)"
   ]
  },
  {
   "cell_type": "code",
   "execution_count": 33,
   "metadata": {},
   "outputs": [],
   "source": [
    "# Using early stopping and Model Checkpoint\n",
    "es = EarlyStopping(monitor='val_loss', mode='min', verbose=1, patience=200)\n",
    "mc = ModelCheckpoint('output/rwpinn_model.h5', monitor='val_loss', mode='min', verbose=1, save_weights_only=True)"
   ]
  },
  {
   "cell_type": "code",
   "execution_count": null,
   "metadata": {},
   "outputs": [],
   "source": [
    "# Start the training\n",
    "\n",
    "Batch_size = 128\n",
    "history = rw_pinn.fit(X_train_final, X_train, \n",
    "                      validation_split=0.2, epochs=200, \n",
    "                      batch_size=Batch_size, callbacks=[es, mc], verbose = 1)"
   ]
  },
  {
   "cell_type": "markdown",
   "metadata": {},
   "source": [
    "# eval"
   ]
  },
  {
   "cell_type": "code",
   "execution_count": 37,
   "metadata": {},
   "outputs": [],
   "source": [
    "# load the saved model\n",
    "rw_pinn.load_weights('output/rwpinn_model.h5')"
   ]
  },
  {
   "cell_type": "code",
   "execution_count": 38,
   "metadata": {},
   "outputs": [
    {
     "name": "stdout",
     "output_type": "stream",
     "text": [
      "Loss = 0.7354311347007751\n"
     ]
    }
   ],
   "source": [
    "# Testing and evaluating the model\n",
    "Batch_size = 128\n",
    "preds = rw_pinn.evaluate(X_test_final, X_test, batch_size=Batch_size, verbose=0, sample_weight=None)\n",
    "print(\"Loss = \" + str(preds))"
   ]
  },
  {
   "cell_type": "code",
   "execution_count": null,
   "metadata": {},
   "outputs": [],
   "source": [
    "# Plotting the learning curve \n",
    "plt.plot(history.history['loss']/np.max(history.history['loss']));\n",
    "plt.plot(history.history['val_loss']/np.max(history.history['val_loss']));\n",
    "\n",
    "#plt.title('Learning curve')\n",
    "plt.ylabel('Normalized Loss');\n",
    "plt.xlabel('Epochs');\n",
    "plt.legend(['Training loss', 'Validation loss'], loc='upper right');\n",
    "\n",
    "# plt.ylim([0.05, 0.2]);"
   ]
  },
  {
   "cell_type": "markdown",
   "metadata": {},
   "source": [
    "## encoder"
   ]
  },
  {
   "cell_type": "code",
   "execution_count": null,
   "metadata": {},
   "outputs": [],
   "source": []
  },
  {
   "cell_type": "code",
   "execution_count": null,
   "metadata": {},
   "outputs": [],
   "source": []
  },
  {
   "cell_type": "code",
   "execution_count": null,
   "metadata": {},
   "outputs": [],
   "source": []
  },
  {
   "cell_type": "code",
   "execution_count": null,
   "metadata": {},
   "outputs": [],
   "source": []
  },
  {
   "cell_type": "code",
   "execution_count": null,
   "metadata": {},
   "outputs": [],
   "source": []
  },
  {
   "cell_type": "code",
   "execution_count": null,
   "metadata": {},
   "outputs": [],
   "source": []
  },
  {
   "cell_type": "code",
   "execution_count": null,
   "metadata": {},
   "outputs": [],
   "source": []
  },
  {
   "cell_type": "code",
   "execution_count": null,
   "metadata": {},
   "outputs": [],
   "source": []
  },
  {
   "cell_type": "code",
   "execution_count": null,
   "metadata": {},
   "outputs": [],
   "source": []
  },
  {
   "cell_type": "code",
   "execution_count": null,
   "metadata": {},
   "outputs": [],
   "source": []
  }
 ],
 "metadata": {
  "kernelspec": {
   "display_name": "Python 3",
   "language": "python",
   "name": "python3"
  },
  "language_info": {
   "codemirror_mode": {
    "name": "ipython",
    "version": 3
   },
   "file_extension": ".py",
   "mimetype": "text/x-python",
   "name": "python",
   "nbconvert_exporter": "python",
   "pygments_lexer": "ipython3",
   "version": "3.8.20"
  }
 },
 "nbformat": 4,
 "nbformat_minor": 2
}
